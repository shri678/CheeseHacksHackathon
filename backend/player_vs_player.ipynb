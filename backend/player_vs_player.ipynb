{
 "cells": [
  {
   "cell_type": "code",
   "execution_count": 197,
   "metadata": {},
   "outputs": [],
   "source": [
    "from nba_api.stats.endpoints import playerestimatedmetrics, playerdashboardbygeneralsplits\n",
    "playerID = 203999"
   ]
  },
  {
   "cell_type": "code",
   "execution_count": 198,
   "metadata": {},
   "outputs": [],
   "source": [
    "playerGeneralInfo = playerdashboardbygeneralsplits.PlayerDashboardByGeneralSplits(season='2023-24',season_type_playoffs='Regular Season', player_id=playerID).overall_player_dashboard.get_dict()"
   ]
  },
  {
   "cell_type": "code",
   "execution_count": 199,
   "metadata": {},
   "outputs": [
    {
     "name": "stdout",
     "output_type": "stream",
     "text": [
      "26\n"
     ]
    }
   ],
   "source": [
    "for i in range(0,len(playerGeneralInfo['headers'])):\n",
    "    if playerGeneralInfo['headers'][i] == 'PTS':\n",
    "        print(i)"
   ]
  },
  {
   "cell_type": "code",
   "execution_count": 200,
   "metadata": {},
   "outputs": [
    {
     "name": "stdout",
     "output_type": "stream",
     "text": [
      "27.4\n"
     ]
    }
   ],
   "source": [
    "playerPTS = playerGeneralInfo['data'][0][26]\n",
    "playerGP = playerGeneralInfo['data'][0][2]\n",
    "\n",
    "playerPPG = round(playerPTS/playerGP, 1)"
   ]
  }
 ],
 "metadata": {
  "kernelspec": {
   "display_name": "Python 3",
   "language": "python",
   "name": "python3"
  },
  "language_info": {
   "codemirror_mode": {
    "name": "ipython",
    "version": 3
   },
   "file_extension": ".py",
   "mimetype": "text/x-python",
   "name": "python",
   "nbconvert_exporter": "python",
   "pygments_lexer": "ipython3",
   "version": "3.11.6"
  }
 },
 "nbformat": 4,
 "nbformat_minor": 2
}
